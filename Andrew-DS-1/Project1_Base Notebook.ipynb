{
 "cells": [
  {
   "cell_type": "code",
   "execution_count": 2,
   "id": "f6f35115-3720-4157-bfd9-6afd667fd574",
   "metadata": {},
   "outputs": [],
   "source": [
    "from pathlib import Path\n",
    "import pandas as pd\n",
    "import scipy.stats as stats\n",
    "import numpy as np\n",
    "import matplotlib.pyplot as plt\n",
    "import seaborn as sns\n",
    "import random"
   ]
  },
  {
   "cell_type": "code",
   "execution_count": 8,
   "id": "a6af3500-c5c1-468d-a3cb-3095a9025a4e",
   "metadata": {},
   "outputs": [
    {
     "data": {
      "text/plain": [
       "(1995, 11)"
      ]
     },
     "execution_count": 8,
     "metadata": {},
     "output_type": "execute_result"
    }
   ],
   "source": [
    "# Filepath\n",
    "filepath = \"Cleaned_Randomized_df.csv\"\n",
    "\n",
    "# Read the CSV file, converting relevant columns to correct data types\n",
    "df = pd.read_csv(filepath)\n",
    "df.shape"
   ]
  },
  {
   "cell_type": "code",
   "execution_count": 9,
   "id": "189d2940-a7a7-4a10-8b18-7ee221eaee64",
   "metadata": {},
   "outputs": [
    {
     "data": {
      "text/html": [
       "<div>\n",
       "<style scoped>\n",
       "    .dataframe tbody tr th:only-of-type {\n",
       "        vertical-align: middle;\n",
       "    }\n",
       "\n",
       "    .dataframe tbody tr th {\n",
       "        vertical-align: top;\n",
       "    }\n",
       "\n",
       "    .dataframe thead th {\n",
       "        text-align: right;\n",
       "    }\n",
       "</style>\n",
       "<table border=\"1\" class=\"dataframe\">\n",
       "  <thead>\n",
       "    <tr style=\"text-align: right;\">\n",
       "      <th></th>\n",
       "      <th>Unnamed: 0</th>\n",
       "      <th>title_without_year</th>\n",
       "      <th>year</th>\n",
       "      <th>main_genre</th>\n",
       "      <th>MPAA-Rating</th>\n",
       "      <th>Runtime</th>\n",
       "      <th>Distributor</th>\n",
       "      <th>Budget_$</th>\n",
       "      <th>Domestic_$</th>\n",
       "      <th>International_$</th>\n",
       "      <th>total_revenue_$</th>\n",
       "    </tr>\n",
       "  </thead>\n",
       "  <tbody>\n",
       "    <tr>\n",
       "      <th>0</th>\n",
       "      <td>103</td>\n",
       "      <td>Avatar</td>\n",
       "      <td>2009</td>\n",
       "      <td>Action</td>\n",
       "      <td>PG-13</td>\n",
       "      <td>162</td>\n",
       "      <td>Twentieth Century Fox</td>\n",
       "      <td>$237,000,000</td>\n",
       "      <td>$749,766,139</td>\n",
       "      <td>$1,993,811,448</td>\n",
       "      <td>$2,743,577,587</td>\n",
       "    </tr>\n",
       "    <tr>\n",
       "      <th>1</th>\n",
       "      <td>1</td>\n",
       "      <td>Star Wars: Episode VII - The Force Awakens</td>\n",
       "      <td>2015</td>\n",
       "      <td>Action</td>\n",
       "      <td>PG-13</td>\n",
       "      <td>138</td>\n",
       "      <td>Walt Disney Studios Motion Pictures</td>\n",
       "      <td>$245,000,000</td>\n",
       "      <td>$936,662,225</td>\n",
       "      <td>$1,131,561,399</td>\n",
       "      <td>$2,068,223,624</td>\n",
       "    </tr>\n",
       "    <tr>\n",
       "      <th>2</th>\n",
       "      <td>0</td>\n",
       "      <td>Jurassic World</td>\n",
       "      <td>2015</td>\n",
       "      <td>Sci-Fi</td>\n",
       "      <td>PG-13</td>\n",
       "      <td>124</td>\n",
       "      <td>Universal Pictures</td>\n",
       "      <td>$150,000,000</td>\n",
       "      <td>$652,270,625</td>\n",
       "      <td>$1,018,130,012</td>\n",
       "      <td>$1,670,400,637</td>\n",
       "    </tr>\n",
       "    <tr>\n",
       "      <th>3</th>\n",
       "      <td>188</td>\n",
       "      <td>The Lion King</td>\n",
       "      <td>2019</td>\n",
       "      <td>Adventure</td>\n",
       "      <td>PG</td>\n",
       "      <td>118</td>\n",
       "      <td>Walt Disney Studios Motion Pictures</td>\n",
       "      <td>$260,000,000</td>\n",
       "      <td>$543,638,043</td>\n",
       "      <td>$1,113,305,351</td>\n",
       "      <td>$1,656,943,394</td>\n",
       "    </tr>\n",
       "    <tr>\n",
       "      <th>4</th>\n",
       "      <td>128</td>\n",
       "      <td>The Avengers</td>\n",
       "      <td>2012</td>\n",
       "      <td>Adventure</td>\n",
       "      <td>PG-13</td>\n",
       "      <td>143</td>\n",
       "      <td>Walt Disney Studios Motion Pictures</td>\n",
       "      <td>$220,000,000</td>\n",
       "      <td>$623,357,910</td>\n",
       "      <td>$895,455,078</td>\n",
       "      <td>$1,518,812,988</td>\n",
       "    </tr>\n",
       "  </tbody>\n",
       "</table>\n",
       "</div>"
      ],
      "text/plain": [
       "   Unnamed: 0                           title_without_year  year main_genre  \\\n",
       "0         103                                      Avatar   2009     Action   \n",
       "1           1  Star Wars: Episode VII - The Force Awakens   2015     Action   \n",
       "2           0                              Jurassic World   2015     Sci-Fi   \n",
       "3         188                               The Lion King   2019  Adventure   \n",
       "4         128                                The Avengers   2012  Adventure   \n",
       "\n",
       "  MPAA-Rating  Runtime                          Distributor      Budget_$  \\\n",
       "0       PG-13      162                Twentieth Century Fox  $237,000,000   \n",
       "1       PG-13      138  Walt Disney Studios Motion Pictures  $245,000,000   \n",
       "2       PG-13      124                   Universal Pictures  $150,000,000   \n",
       "3          PG      118  Walt Disney Studios Motion Pictures  $260,000,000   \n",
       "4       PG-13      143  Walt Disney Studios Motion Pictures  $220,000,000   \n",
       "\n",
       "     Domestic_$ International_$ total_revenue_$  \n",
       "0  $749,766,139  $1,993,811,448  $2,743,577,587  \n",
       "1  $936,662,225  $1,131,561,399  $2,068,223,624  \n",
       "2  $652,270,625  $1,018,130,012  $1,670,400,637  \n",
       "3  $543,638,043  $1,113,305,351  $1,656,943,394  \n",
       "4  $623,357,910    $895,455,078  $1,518,812,988  "
      ]
     },
     "execution_count": 9,
     "metadata": {},
     "output_type": "execute_result"
    }
   ],
   "source": [
    "df.head()"
   ]
  },
  {
   "cell_type": "code",
   "execution_count": 10,
   "id": "0e1e2cd5-2860-4b08-99da-1772ffa10c88",
   "metadata": {},
   "outputs": [
    {
     "data": {
      "text/plain": [
       "Distributor\n",
       "Warner Bros.                         266\n",
       "Universal Pictures                   252\n",
       "Twentieth Century Fox                218\n",
       "Sony Pictures Entertainment (SPE)    182\n",
       "Paramount Pictures                   173\n",
       "                                    ... \n",
       "IFC Films                              1\n",
       "EuropaCorp                             1\n",
       "Neon                                   1\n",
       "FUNimation Entertainment               1\n",
       "OTL Releasing                          1\n",
       "Name: count, Length: 74, dtype: int64"
      ]
     },
     "execution_count": 10,
     "metadata": {},
     "output_type": "execute_result"
    }
   ],
   "source": [
    "df[\"Distributor\"].value_counts()"
   ]
  },
  {
   "cell_type": "code",
   "execution_count": null,
   "id": "84ac014b-5109-47d7-a5a5-1d639cd52d83",
   "metadata": {},
   "outputs": [],
   "source": []
  }
 ],
 "metadata": {
  "kernelspec": {
   "display_name": "Python 3 (ipykernel)",
   "language": "python",
   "name": "python3"
  },
  "language_info": {
   "codemirror_mode": {
    "name": "ipython",
    "version": 3
   },
   "file_extension": ".py",
   "mimetype": "text/x-python",
   "name": "python",
   "nbconvert_exporter": "python",
   "pygments_lexer": "ipython3",
   "version": "3.10.14"
  }
 },
 "nbformat": 4,
 "nbformat_minor": 5
}
